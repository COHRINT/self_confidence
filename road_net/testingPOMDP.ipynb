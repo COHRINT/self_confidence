{
 "cells": [
  {
   "cell_type": "code",
   "execution_count": 8,
   "metadata": {},
   "outputs": [
    {
     "data": {
      "text/plain": [
       "rewards (generic function with 1 method)"
      ]
     },
     "execution_count": 8,
     "metadata": {},
     "output_type": "execute_result"
    }
   ],
   "source": [
    "using POMDPs, POMDPToolbox\n",
    "using Distributions\n",
    "include(\"POMDPGraph_utils.jl\")"
   ]
  },
  {
   "cell_type": "code",
   "execution_count": 16,
   "metadata": {},
   "outputs": [
    {
     "data": {
      "text/plain": [
       "roadnet(0.6, 0.9, [-1.0, -1.0, -1.0, -1.0, -1.0, -1.0, -1.0, -1.0, -1.0, -1.0, -1.0, -1.0, 1000.0], roadnetState[roadnetState(1, false), roadnetState(2, false), roadnetState(3, false), roadnetState(4, false), roadnetState(5, false), roadnetState(6, false), roadnetState(7, false), roadnetState(8, false), roadnetState(9, false), roadnetState(10, false), roadnetState(11, false), roadnetState(12, false), roadnetState(13, true)], {13, 19} undirected Int64 metagraph with Float64 weights defined by :weight (default weight 1.0))"
      ]
     },
     "execution_count": 16,
     "metadata": {},
     "output_type": "execute_result"
    }
   ],
   "source": [
    "include(\"network_library.jl\")\n",
    "g = original_roadnet()\n",
    "(reward_states,reward_vals) = rewards(g)\n",
    "mdp = roadnet(0.6,0.9,reward_vals,reward_states,g)"
   ]
  },
  {
   "cell_type": "code",
   "execution_count": 17,
   "metadata": {},
   "outputs": [
    {
     "name": "stdout",
     "output_type": "stream",
     "text": [
      "state is: roadnetState(1, false)\n",
      "moving to n3\n"
     ]
    },
    {
     "data": {
      "text/plain": [
       "POMDPToolbox.MDPHistory{roadnetState,Symbol}(roadnetState[roadnetState(1, false), roadnetState(1, false)], Symbol[:n3], [-1.0], 0.9, Nullable{Exception}(), Nullable{Any}())"
      ]
     },
     "execution_count": 17,
     "metadata": {},
     "output_type": "execute_result"
    }
   ],
   "source": [
    "sim(mdp,roadnetState(1),max_steps=1) do s\n",
    "    println(\"state is: $s\")\n",
    "    a_set = [:n1,:n2,:n3,:n4]\n",
    "    a = a_set[rand(1:end)] # choose random action\n",
    "    println(\"moving to $a\")\n",
    "    return a\n",
    "end"
   ]
  },
  {
   "cell_type": "code",
   "execution_count": 18,
   "metadata": {},
   "outputs": [
    {
     "name": "stdout",
     "output_type": "stream",
     "text": [
      "[Iteration 1   ] residual:   1E+03 | iteration runtime:      0.859 ms, (  0.000859 s total)\n",
      "[Iteration 2   ] residual:        900 | iteration runtime:      0.741 ms, (    0.0016 s total)\n",
      "[Iteration 3   ] residual:        810 | iteration runtime:      0.832 ms, (   0.00243 s total)\n",
      "[Iteration 4   ] residual:        729 | iteration runtime:      0.579 ms, (   0.00301 s total)\n",
      "[Iteration 5   ] residual:        656 | iteration runtime:      0.788 ms, (    0.0038 s total)\n",
      "[Iteration 6   ] residual:        590 | iteration runtime:      0.488 ms, (   0.00429 s total)\n",
      "[Iteration 7   ] residual:        531 | iteration runtime:      0.537 ms, (   0.00482 s total)\n",
      "[Iteration 8   ] residual:        478 | iteration runtime:      0.494 ms, (   0.00532 s total)\n",
      "[Iteration 9   ] residual:        430 | iteration runtime:      0.826 ms, (   0.00614 s total)\n",
      "[Iteration 10  ] residual:        387 | iteration runtime:      0.530 ms, (   0.00667 s total)\n",
      "[Iteration 11  ] residual:        349 | iteration runtime:      0.902 ms, (   0.00758 s total)\n",
      "[Iteration 12  ] residual:        314 | iteration runtime:      1.147 ms, (   0.00872 s total)\n",
      "[Iteration 13  ] residual:        282 | iteration runtime:      0.791 ms, (   0.00951 s total)\n",
      "[Iteration 14  ] residual:        254 | iteration runtime:      0.818 ms, (    0.0103 s total)\n",
      "[Iteration 15  ] residual:        229 | iteration runtime:      0.840 ms, (    0.0112 s total)\n",
      "[Iteration 16  ] residual:        206 | iteration runtime:      0.470 ms, (    0.0116 s total)\n",
      "[Iteration 17  ] residual:        185 | iteration runtime:      0.449 ms, (    0.0121 s total)\n",
      "[Iteration 18  ] residual:        167 | iteration runtime:      0.453 ms, (    0.0125 s total)\n",
      "[Iteration 19  ] residual:        150 | iteration runtime:      0.605 ms, (    0.0131 s total)\n",
      "[Iteration 20  ] residual:        135 | iteration runtime:      0.446 ms, (    0.0136 s total)\n",
      "[Iteration 21  ] residual:        122 | iteration runtime:      0.560 ms, (    0.0142 s total)\n",
      "[Iteration 22  ] residual:        109 | iteration runtime:      0.484 ms, (    0.0146 s total)\n",
      "[Iteration 23  ] residual:       98.5 | iteration runtime:      0.449 ms, (    0.0151 s total)\n",
      "[Iteration 24  ] residual:       88.6 | iteration runtime:      0.511 ms, (    0.0156 s total)\n",
      "[Iteration 25  ] residual:       79.8 | iteration runtime:      0.473 ms, (    0.0161 s total)\n",
      "[Iteration 26  ] residual:       71.8 | iteration runtime:      0.782 ms, (    0.0169 s total)\n",
      "[Iteration 27  ] residual:       64.6 | iteration runtime:      0.743 ms, (    0.0176 s total)\n",
      "[Iteration 28  ] residual:       58.1 | iteration runtime:      0.660 ms, (    0.0183 s total)\n",
      "[Iteration 29  ] residual:       52.3 | iteration runtime:      0.800 ms, (    0.0191 s total)\n",
      "[Iteration 30  ] residual:       47.1 | iteration runtime:      0.611 ms, (    0.0197 s total)\n",
      "[Iteration 31  ] residual:       42.4 | iteration runtime:      1.342 ms, (     0.021 s total)\n",
      "[Iteration 32  ] residual:       38.2 | iteration runtime:      0.566 ms, (    0.0216 s total)\n",
      "[Iteration 33  ] residual:       34.3 | iteration runtime:      0.630 ms, (    0.0222 s total)\n",
      "[Iteration 34  ] residual:       30.9 | iteration runtime:      0.741 ms, (    0.0229 s total)\n",
      "[Iteration 35  ] residual:       27.8 | iteration runtime:      0.442 ms, (    0.0234 s total)\n",
      "[Iteration 36  ] residual:         25 | iteration runtime:      0.483 ms, (    0.0239 s total)\n",
      "[Iteration 37  ] residual:       22.5 | iteration runtime:      0.454 ms, (    0.0243 s total)\n",
      "[Iteration 38  ] residual:       20.3 | iteration runtime:      0.538 ms, (    0.0249 s total)\n",
      "[Iteration 39  ] residual:       18.2 | iteration runtime:      0.539 ms, (    0.0254 s total)\n",
      "[Iteration 40  ] residual:       16.4 | iteration runtime:      0.436 ms, (    0.0258 s total)\n",
      "[Iteration 41  ] residual:       14.8 | iteration runtime:      0.443 ms, (    0.0263 s total)\n",
      "[Iteration 42  ] residual:       13.3 | iteration runtime:      0.481 ms, (    0.0268 s total)\n",
      "[Iteration 43  ] residual:         12 | iteration runtime:      0.760 ms, (    0.0275 s total)\n",
      "[Iteration 44  ] residual:       10.8 | iteration runtime:      0.459 ms, (     0.028 s total)\n",
      "[Iteration 45  ] residual:        9.7 | iteration runtime:      0.492 ms, (    0.0285 s total)\n",
      "[Iteration 46  ] residual:       8.73 | iteration runtime:      0.436 ms, (    0.0289 s total)\n",
      "[Iteration 47  ] residual:       7.86 | iteration runtime:      0.456 ms, (    0.0294 s total)\n",
      "[Iteration 48  ] residual:       7.07 | iteration runtime:      0.430 ms, (    0.0298 s total)\n",
      "[Iteration 49  ] residual:       6.36 | iteration runtime:      3.734 ms, (    0.0335 s total)\n",
      "[Iteration 50  ] residual:       5.73 | iteration runtime:      0.476 ms, (     0.034 s total)\n",
      "[Iteration 51  ] residual:       5.15 | iteration runtime:      0.442 ms, (    0.0344 s total)\n",
      "[Iteration 52  ] residual:       4.64 | iteration runtime:      0.450 ms, (    0.0349 s total)\n",
      "[Iteration 53  ] residual:       4.17 | iteration runtime:      0.567 ms, (    0.0355 s total)\n",
      "[Iteration 54  ] residual:       3.76 | iteration runtime:      0.451 ms, (    0.0359 s total)\n",
      "[Iteration 55  ] residual:       3.38 | iteration runtime:      0.460 ms, (    0.0364 s total)\n",
      "[Iteration 56  ] residual:       3.04 | iteration runtime:      0.438 ms, (    0.0368 s total)\n",
      "[Iteration 57  ] residual:       2.74 | iteration runtime:      0.433 ms, (    0.0372 s total)\n",
      "[Iteration 58  ] residual:       2.47 | iteration runtime:      0.455 ms, (    0.0377 s total)\n",
      "[Iteration 59  ] residual:       2.22 | iteration runtime:      0.443 ms, (    0.0381 s total)\n",
      "[Iteration 60  ] residual:          2 | iteration runtime:      0.441 ms, (    0.0386 s total)\n",
      "[Iteration 61  ] residual:        1.8 | iteration runtime:      0.441 ms, (     0.039 s total)\n",
      "[Iteration 62  ] residual:       1.62 | iteration runtime:      0.444 ms, (    0.0395 s total)\n",
      "[Iteration 63  ] residual:       1.46 | iteration runtime:      0.439 ms, (    0.0399 s total)\n",
      "[Iteration 64  ] residual:       1.31 | iteration runtime:      0.491 ms, (    0.0404 s total)\n",
      "[Iteration 65  ] residual:       1.18 | iteration runtime:      0.510 ms, (    0.0409 s total)\n",
      "[Iteration 66  ] residual:       1.06 | iteration runtime:      0.500 ms, (    0.0414 s total)\n",
      "[Iteration 67  ] residual:      0.955 | iteration runtime:      0.444 ms, (    0.0419 s total)\n",
      "[Iteration 68  ] residual:       0.86 | iteration runtime:      0.484 ms, (    0.0423 s total)\n",
      "[Iteration 69  ] residual:      0.774 | iteration runtime:      0.446 ms, (    0.0428 s total)\n",
      "[Iteration 70  ] residual:      0.696 | iteration runtime:      0.658 ms, (    0.0434 s total)\n",
      "[Iteration 71  ] residual:      0.627 | iteration runtime:      0.691 ms, (    0.0441 s total)\n",
      "[Iteration 72  ] residual:      0.564 | iteration runtime:      1.310 ms, (    0.0454 s total)\n",
      "[Iteration 73  ] residual:      0.508 | iteration runtime:      1.924 ms, (    0.0474 s total)\n",
      "[Iteration 74  ] residual:      0.457 | iteration runtime:      0.480 ms, (    0.0478 s total)\n",
      "[Iteration 75  ] residual:      0.411 | iteration runtime:      0.440 ms, (    0.0483 s total)\n",
      "[Iteration 76  ] residual:       0.37 | iteration runtime:      0.436 ms, (    0.0487 s total)\n",
      "[Iteration 77  ] residual:      0.333 | iteration runtime:      0.441 ms, (    0.0492 s total)\n",
      "[Iteration 78  ] residual:        0.3 | iteration runtime:      0.429 ms, (    0.0496 s total)\n",
      "[Iteration 79  ] residual:       0.27 | iteration runtime:      0.436 ms, (      0.05 s total)\n",
      "[Iteration 80  ] residual:      0.243 | iteration runtime:      0.449 ms, (    0.0505 s total)\n",
      "[Iteration 81  ] residual:      0.218 | iteration runtime:      0.468 ms, (    0.0509 s total)\n",
      "[Iteration 82  ] residual:      0.197 | iteration runtime:      0.476 ms, (    0.0514 s total)\n",
      "[Iteration 83  ] residual:      0.177 | iteration runtime:      0.441 ms, (    0.0519 s total)\n",
      "[Iteration 84  ] residual:      0.159 | iteration runtime:      0.516 ms, (    0.0524 s total)\n",
      "[Iteration 85  ] residual:      0.143 | iteration runtime:      0.517 ms, (    0.0529 s total)\n",
      "[Iteration 86  ] residual:      0.129 | iteration runtime:      0.776 ms, (    0.0537 s total)\n",
      "[Iteration 87  ] residual:      0.116 | iteration runtime:      0.512 ms, (    0.0542 s total)\n",
      "[Iteration 88  ] residual:      0.104 | iteration runtime:      0.585 ms, (    0.0548 s total)\n",
      "[Iteration 89  ] residual:      0.094 | iteration runtime:      0.579 ms, (    0.0553 s total)\n",
      "[Iteration 90  ] residual:     0.0846 | iteration runtime:      0.466 ms, (    0.0558 s total)\n",
      "[Iteration 91  ] residual:     0.0762 | iteration runtime:      0.661 ms, (    0.0565 s total)\n",
      "[Iteration 92  ] residual:     0.0686 | iteration runtime:      0.717 ms, (    0.0572 s total)\n",
      "[Iteration 93  ] residual:     0.0617 | iteration runtime:      0.492 ms, (    0.0577 s total)\n",
      "[Iteration 94  ] residual:     0.0555 | iteration runtime:      0.464 ms, (    0.0581 s total)\n",
      "[Iteration 95  ] residual:       0.05 | iteration runtime:      0.461 ms, (    0.0586 s total)\n",
      "[Iteration 96  ] residual:      0.045 | iteration runtime:      0.444 ms, (    0.0591 s total)\n",
      "[Iteration 97  ] residual:     0.0405 | iteration runtime:      0.432 ms, (    0.0595 s total)\n",
      "[Iteration 98  ] residual:     0.0364 | iteration runtime:      0.443 ms, (    0.0599 s total)\n",
      "[Iteration 99  ] residual:     0.0328 | iteration runtime:      0.453 ms, (    0.0604 s total)\n",
      "[Iteration 100 ] residual:     0.0295 | iteration runtime:      0.595 ms, (     0.061 s total)\n",
      "[Iteration 101 ] residual:     0.0266 | iteration runtime:      0.578 ms, (    0.0616 s total)\n",
      "[Iteration 102 ] residual:     0.0239 | iteration runtime:      0.564 ms, (    0.0621 s total)\n",
      "[Iteration 103 ] residual:     0.0215 | iteration runtime:      5.032 ms, (    0.0672 s total)\n",
      "[Iteration 104 ] residual:     0.0194 | iteration runtime:      0.553 ms, (    0.0677 s total)\n",
      "[Iteration 105 ] residual:     0.0174 | iteration runtime:      1.266 ms, (     0.069 s total)\n",
      "[Iteration 106 ] residual:     0.0157 | iteration runtime:      0.555 ms, (    0.0695 s total)\n",
      "[Iteration 107 ] residual:     0.0141 | iteration runtime:      0.808 ms, (    0.0703 s total)\n",
      "[Iteration 108 ] residual:     0.0127 | iteration runtime:      0.731 ms, (    0.0711 s total)\n",
      "[Iteration 109 ] residual:     0.0114 | iteration runtime:      0.725 ms, (    0.0718 s total)\n",
      "[Iteration 110 ] residual:     0.0103 | iteration runtime:      0.893 ms, (    0.0727 s total)\n",
      "[Iteration 111 ] residual:    0.00926 | iteration runtime:      0.581 ms, (    0.0733 s total)\n",
      "[Iteration 112 ] residual:    0.00834 | iteration runtime:      0.789 ms, (    0.0741 s total)\n",
      "[Iteration 113 ] residual:     0.0075 | iteration runtime:      0.729 ms, (    0.0748 s total)\n",
      "[Iteration 114 ] residual:    0.00675 | iteration runtime:      0.486 ms, (    0.0753 s total)\n",
      "[Iteration 115 ] residual:    0.00608 | iteration runtime:      0.445 ms, (    0.0757 s total)\n",
      "[Iteration 116 ] residual:    0.00547 | iteration runtime:      0.436 ms, (    0.0761 s total)\n",
      "[Iteration 117 ] residual:    0.00492 | iteration runtime:      0.431 ms, (    0.0766 s total)\n",
      "[Iteration 118 ] residual:    0.00443 | iteration runtime:      0.472 ms, (    0.0771 s total)\n",
      "[Iteration 119 ] residual:    0.00399 | iteration runtime:      0.458 ms, (    0.0775 s total)\n",
      "[Iteration 120 ] residual:    0.00359 | iteration runtime:      0.473 ms, (     0.078 s total)\n",
      "[Iteration 121 ] residual:    0.00323 | iteration runtime:      0.698 ms, (    0.0787 s total)\n",
      "[Iteration 122 ] residual:    0.00291 | iteration runtime:      0.474 ms, (    0.0792 s total)\n",
      "[Iteration 123 ] residual:    0.00262 | iteration runtime:      0.432 ms, (    0.0796 s total)\n",
      "[Iteration 124 ] residual:    0.00235 | iteration runtime:      0.445 ms, (      0.08 s total)\n",
      "[Iteration 125 ] residual:    0.00212 | iteration runtime:      0.441 ms, (    0.0805 s total)\n",
      "[Iteration 126 ] residual:    0.00191 | iteration runtime:      0.468 ms, (    0.0809 s total)\n",
      "[Iteration 127 ] residual:    0.00172 | iteration runtime:      0.760 ms, (    0.0817 s total)\n",
      "[Iteration 128 ] residual:    0.00154 | iteration runtime:      0.915 ms, (    0.0826 s total)\n",
      "[Iteration 129 ] residual:    0.00139 | iteration runtime:      0.552 ms, (    0.0832 s total)\n",
      "[Iteration 130 ] residual:    0.00125 | iteration runtime:      1.606 ms, (    0.0848 s total)\n",
      "[Iteration 131 ] residual:    0.00113 | iteration runtime:      1.448 ms, (    0.0862 s total)\n",
      "[Iteration 132 ] residual:    0.00101 | iteration runtime:      0.439 ms, (    0.0867 s total)\n",
      "[Iteration 133 ] residual:   0.000912 | iteration runtime:      0.456 ms, (    0.0871 s total)\n"
     ]
    },
    {
     "data": {
      "text/plain": [
       "DiscreteValueIteration.ValueIterationPolicy([513.103 543.471 488.124 488.124; 487.041 468.174 503.743 452.368; … ; 0.0 0.0 0.0 0.0; 0.0 0.0 0.0 0.0], [543.471, 503.743, 491.062, 575.397, 586.094, 703.613, 708.35, 873.358, 589.864, 672.451  …  0.0, 0.0, 0.0, 0.0, 0.0, 0.0, 0.0, 0.0, 0.0, 0.0], [2, 3, 2, 3, 2, 3, 3, 4, 3, 3  …  1, 1, 1, 1, 1, 1, 1, 1, 1, 1], Symbol[:n1, :n2, :n3, :n4], true, roadnet(0.6, 0.9, [-1.0, -1.0, -1.0, -1.0, -1.0, -1.0, -1.0, -1.0, -1.0, -1.0, -1.0, -1.0, 1000.0], roadnetState[roadnetState(1, false), roadnetState(2, false), roadnetState(3, false), roadnetState(4, false), roadnetState(5, false), roadnetState(6, false), roadnetState(7, false), roadnetState(8, false), roadnetState(9, false), roadnetState(10, false), roadnetState(11, false), roadnetState(12, false), roadnetState(13, true)], {13, 19} undirected Int64 metagraph with Float64 weights defined by :weight (default weight 1.0)))"
      ]
     },
     "execution_count": 18,
     "metadata": {},
     "output_type": "execute_result"
    }
   ],
   "source": [
    "using DiscreteValueIteration\n",
    "\n",
    "solver = ValueIterationSolver(max_iterations=1000, belres=1e-3)\n",
    "policy = ValueIterationPolicy(mdp)\n",
    "\n",
    "solve(solver, mdp, policy, verbose=true)"
   ]
  },
  {
   "cell_type": "code",
   "execution_count": 19,
   "metadata": {},
   "outputs": [
    {
     "data": {
      "text/plain": [
       ":n2"
      ]
     },
     "metadata": {},
     "output_type": "display_data"
    },
    {
     "data": {
      "text/plain": [
       ":n3"
      ]
     },
     "metadata": {},
     "output_type": "display_data"
    },
    {
     "data": {
      "text/plain": [
       ":n2"
      ]
     },
     "metadata": {},
     "output_type": "display_data"
    },
    {
     "data": {
      "text/plain": [
       ":n3"
      ]
     },
     "metadata": {},
     "output_type": "display_data"
    },
    {
     "data": {
      "text/plain": [
       ":n2"
      ]
     },
     "metadata": {},
     "output_type": "display_data"
    },
    {
     "data": {
      "text/plain": [
       ":n3"
      ]
     },
     "metadata": {},
     "output_type": "display_data"
    },
    {
     "data": {
      "text/plain": [
       ":n3"
      ]
     },
     "metadata": {},
     "output_type": "display_data"
    },
    {
     "data": {
      "text/plain": [
       ":n4"
      ]
     },
     "metadata": {},
     "output_type": "display_data"
    },
    {
     "data": {
      "text/plain": [
       ":n3"
      ]
     },
     "metadata": {},
     "output_type": "display_data"
    },
    {
     "data": {
      "text/plain": [
       ":n3"
      ]
     },
     "metadata": {},
     "output_type": "display_data"
    },
    {
     "data": {
      "text/plain": [
       ":n3"
      ]
     },
     "metadata": {},
     "output_type": "display_data"
    },
    {
     "data": {
      "text/plain": [
       ":n4"
      ]
     },
     "metadata": {},
     "output_type": "display_data"
    },
    {
     "data": {
      "text/plain": [
       ":n3"
      ]
     },
     "metadata": {},
     "output_type": "display_data"
    }
   ],
   "source": [
    "for x in vertices(mdp.road_net)\n",
    "    s = roadnetState(x)\n",
    "    #display(\"node $x\")\n",
    "    #display(neighbors(mdp.road_net,s.node)')\n",
    "    a = action(policy,s)\n",
    "    display(a)\n",
    "end"
   ]
  },
  {
   "cell_type": "code",
   "execution_count": 20,
   "metadata": {},
   "outputs": [
    {
     "name": "stdout",
     "output_type": "stream",
     "text": [
      "Total discounted reward: 726.2900000000001\n"
     ]
    }
   ],
   "source": [
    "s = roadnetState(4)\n",
    "hist = HistoryRecorder(max_steps=1000)\n",
    "\n",
    "hist = simulate(hist,mdp,policy,s)\n",
    "\n",
    "println(\"Total discounted reward: $(discounted_reward(hist))\")"
   ]
  },
  {
   "cell_type": "code",
   "execution_count": 14,
   "metadata": {
    "scrolled": true
   },
   "outputs": [
    {
     "name": "stdout",
     "output_type": "stream",
     "text": [
      "s: roadnetState(4, false)      a: n3      s': roadnetState(7, false)    \n",
      "s: roadnetState(7, false)      a: n3      s': roadnetState(8, false)    \n",
      "s: roadnetState(8, false)      a: n4      s': roadnetState(13, true)    \n"
     ]
    }
   ],
   "source": [
    "for (s, a, sp) in eachstep(hist, \"s,a,sp\")\n",
    "    @printf(\"s: %-26s  a: %-6s  s': %-26s\\n\", s, a, sp)\n",
    "end"
   ]
  },
  {
   "cell_type": "code",
   "execution_count": null,
   "metadata": {},
   "outputs": [],
   "source": []
  }
 ],
 "metadata": {
  "kernelspec": {
   "display_name": "Julia 0.6.0",
   "language": "julia",
   "name": "julia-0.6"
  },
  "language_info": {
   "file_extension": ".jl",
   "mimetype": "application/julia",
   "name": "julia",
   "version": "0.6.0"
  }
 },
 "nbformat": 4,
 "nbformat_minor": 2
}
