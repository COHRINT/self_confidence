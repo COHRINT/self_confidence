{
 "cells": [
  {
   "cell_type": "code",
   "execution_count": 2,
   "metadata": {},
   "outputs": [
    {
     "data": {
      "text/plain": [
       "rewards (generic function with 1 method)"
      ]
     },
     "execution_count": 2,
     "metadata": {},
     "output_type": "execute_result"
    }
   ],
   "source": [
    "using POMDPs, POMDPToolbox\n",
    "using Distributions\n",
    "include(\"roadnet_MDP.jl\")"
   ]
  },
  {
   "cell_type": "code",
   "execution_count": 3,
   "metadata": {},
   "outputs": [
    {
     "data": {
      "text/plain": [
       "13-element Array{roadnetState,1}:\n",
       " roadnetState(1, false) \n",
       " roadnetState(2, false) \n",
       " roadnetState(3, false) \n",
       " roadnetState(4, false) \n",
       " roadnetState(5, false) \n",
       " roadnetState(6, false) \n",
       " roadnetState(7, false) \n",
       " roadnetState(8, false) \n",
       " roadnetState(9, false) \n",
       " roadnetState(10, false)\n",
       " roadnetState(11, false)\n",
       " roadnetState(12, false)\n",
       " roadnetState(13, true) "
      ]
     },
     "execution_count": 3,
     "metadata": {},
     "output_type": "execute_result"
    }
   ],
   "source": [
    "include(\"network_library.jl\")\n",
    "g = original_roadnet()\n",
    "(reward_states,reward_vals) = rewards(g)\n",
    "mdp = roadnet(0.6,0.9,reward_vals,reward_states,g)"
   ]
  },
  {
   "cell_type": "code",
   "execution_count": 3,
   "metadata": {},
   "outputs": [
    {
     "name": "stdout",
     "output_type": "stream",
     "text": [
      "state is: roadnetState(1, false)\n",
      "moving to n3\n"
     ]
    },
    {
     "data": {
      "text/plain": [
       "POMDPToolbox.MDPHistory{roadnetState,Symbol}(roadnetState[roadnetState(1, false), roadnetState(1, false)], Symbol[:n3], [-1.0], 0.9, Nullable{Exception}(), Nullable{Any}())"
      ]
     },
     "execution_count": 3,
     "metadata": {},
     "output_type": "execute_result"
    }
   ],
   "source": [
    "sim(mdp,roadnetState(1),max_steps=1) do s\n",
    "    println(\"state is: $s\")\n",
    "    a_set = [:n1,:n2,:n3,:n4]\n",
    "    a = a_set[rand(1:end)] # choose random action\n",
    "    println(\"moving to $a\")\n",
    "    return a\n",
    "end"
   ]
  },
  {
   "cell_type": "code",
   "execution_count": 4,
   "metadata": {},
   "outputs": [
    {
     "name": "stdout",
     "output_type": "stream",
     "text": [
      "[Iteration 1   ] residual:   1E+03 | iteration runtime:      0.538 ms, (  0.000538 s total)\n",
      "[Iteration 2   ] residual:        900 | iteration runtime:      0.503 ms, (   0.00104 s total)\n",
      "[Iteration 3   ] residual:        810 | iteration runtime:      0.939 ms, (   0.00198 s total)\n",
      "[Iteration 4   ] residual:        729 | iteration runtime:      0.454 ms, (   0.00243 s total)\n",
      "[Iteration 5   ] residual:        656 | iteration runtime:      0.474 ms, (   0.00291 s total)\n",
      "[Iteration 6   ] residual:        590 | iteration runtime:      0.510 ms, (   0.00342 s total)\n",
      "[Iteration 7   ] residual:        531 | iteration runtime:      0.431 ms, (   0.00385 s total)\n",
      "[Iteration 8   ] residual:        478 | iteration runtime:      0.423 ms, (   0.00427 s total)\n",
      "[Iteration 9   ] residual:        430 | iteration runtime:      0.430 ms, (    0.0047 s total)\n",
      "[Iteration 10  ] residual:        387 | iteration runtime:      0.435 ms, (   0.00514 s total)\n",
      "[Iteration 11  ] residual:        349 | iteration runtime:      0.426 ms, (   0.00556 s total)\n",
      "[Iteration 12  ] residual:        314 | iteration runtime:      0.483 ms, (   0.00605 s total)\n",
      "[Iteration 13  ] residual:        282 | iteration runtime:      0.441 ms, (   0.00649 s total)\n",
      "[Iteration 14  ] residual:        254 | iteration runtime:      0.414 ms, (    0.0069 s total)\n",
      "[Iteration 15  ] residual:        229 | iteration runtime:      0.425 ms, (   0.00733 s total)\n",
      "[Iteration 16  ] residual:        206 | iteration runtime:      0.442 ms, (   0.00777 s total)\n",
      "[Iteration 17  ] residual:        185 | iteration runtime:      0.528 ms, (    0.0083 s total)\n",
      "[Iteration 18  ] residual:        167 | iteration runtime:      0.441 ms, (   0.00874 s total)\n",
      "[Iteration 19  ] residual:        150 | iteration runtime:      0.445 ms, (   0.00918 s total)\n",
      "[Iteration 20  ] residual:        135 | iteration runtime:      0.421 ms, (    0.0096 s total)\n",
      "[Iteration 21  ] residual:        122 | iteration runtime:      0.474 ms, (    0.0101 s total)\n",
      "[Iteration 22  ] residual:        109 | iteration runtime:      0.567 ms, (    0.0106 s total)\n",
      "[Iteration 23  ] residual:       98.5 | iteration runtime:      0.545 ms, (    0.0112 s total)\n",
      "[Iteration 24  ] residual:       88.6 | iteration runtime:      0.642 ms, (    0.0118 s total)\n",
      "[Iteration 25  ] residual:       79.8 | iteration runtime:      0.565 ms, (    0.0124 s total)\n",
      "[Iteration 26  ] residual:       71.8 | iteration runtime:      0.903 ms, (    0.0133 s total)\n",
      "[Iteration 27  ] residual:       64.6 | iteration runtime:      0.832 ms, (    0.0141 s total)\n",
      "[Iteration 28  ] residual:       58.1 | iteration runtime:      0.999 ms, (    0.0151 s total)\n",
      "[Iteration 29  ] residual:       52.3 | iteration runtime:      0.615 ms, (    0.0157 s total)\n",
      "[Iteration 30  ] residual:       47.1 | iteration runtime:      0.610 ms, (    0.0164 s total)\n",
      "[Iteration 31  ] residual:       42.4 | iteration runtime:      0.620 ms, (     0.017 s total)\n",
      "[Iteration 32  ] residual:       38.2 | iteration runtime:      0.629 ms, (    0.0176 s total)\n",
      "[Iteration 33  ] residual:       34.3 | iteration runtime:      0.587 ms, (    0.0182 s total)\n",
      "[Iteration 34  ] residual:       30.9 | iteration runtime:      0.590 ms, (    0.0188 s total)\n",
      "[Iteration 35  ] residual:       27.8 | iteration runtime:      0.599 ms, (    0.0194 s total)\n",
      "[Iteration 36  ] residual:         25 | iteration runtime:      0.633 ms, (      0.02 s total)\n",
      "[Iteration 37  ] residual:       22.5 | iteration runtime:      0.614 ms, (    0.0206 s total)\n",
      "[Iteration 38  ] residual:       20.3 | iteration runtime:      0.689 ms, (    0.0213 s total)\n",
      "[Iteration 39  ] residual:       18.2 | iteration runtime:      1.176 ms, (    0.0225 s total)\n",
      "[Iteration 40  ] residual:       16.4 | iteration runtime:      1.002 ms, (    0.0235 s total)\n",
      "[Iteration 41  ] residual:       14.8 | iteration runtime:      0.680 ms, (    0.0242 s total)\n",
      "[Iteration 42  ] residual:       13.3 | iteration runtime:     11.418 ms, (    0.0356 s total)\n",
      "[Iteration 43  ] residual:         12 | iteration runtime:      0.918 ms, (    0.0365 s total)\n",
      "[Iteration 44  ] residual:       10.8 | iteration runtime:      0.973 ms, (    0.0375 s total)\n",
      "[Iteration 45  ] residual:        9.7 | iteration runtime:      1.065 ms, (    0.0385 s total)\n",
      "[Iteration 46  ] residual:       8.73 | iteration runtime:      0.776 ms, (    0.0393 s total)\n",
      "[Iteration 47  ] residual:       7.86 | iteration runtime:      0.447 ms, (    0.0398 s total)\n",
      "[Iteration 48  ] residual:       7.07 | iteration runtime:      0.637 ms, (    0.0404 s total)\n",
      "[Iteration 49  ] residual:       6.36 | iteration runtime:      0.459 ms, (    0.0409 s total)\n",
      "[Iteration 50  ] residual:       5.73 | iteration runtime:      0.479 ms, (    0.0413 s total)\n",
      "[Iteration 51  ] residual:       5.15 | iteration runtime:      0.425 ms, (    0.0418 s total)\n",
      "[Iteration 52  ] residual:       4.64 | iteration runtime:      0.427 ms, (    0.0422 s total)\n",
      "[Iteration 53  ] residual:       4.17 | iteration runtime:      0.428 ms, (    0.0426 s total)\n",
      "[Iteration 54  ] residual:       3.76 | iteration runtime:      0.426 ms, (    0.0431 s total)\n",
      "[Iteration 55  ] residual:       3.38 | iteration runtime:      0.432 ms, (    0.0435 s total)\n",
      "[Iteration 56  ] residual:       3.04 | iteration runtime:      0.431 ms, (    0.0439 s total)\n",
      "[Iteration 57  ] residual:       2.74 | iteration runtime:      0.442 ms, (    0.0444 s total)\n",
      "[Iteration 58  ] residual:       2.47 | iteration runtime:      0.429 ms, (    0.0448 s total)\n",
      "[Iteration 59  ] residual:       2.22 | iteration runtime:      0.588 ms, (    0.0454 s total)\n",
      "[Iteration 60  ] residual:          2 | iteration runtime:      0.435 ms, (    0.0458 s total)\n",
      "[Iteration 61  ] residual:        1.8 | iteration runtime:      0.484 ms, (    0.0463 s total)\n",
      "[Iteration 62  ] residual:       1.62 | iteration runtime:      0.469 ms, (    0.0468 s total)\n",
      "[Iteration 63  ] residual:       1.46 | iteration runtime:      0.442 ms, (    0.0472 s total)\n",
      "[Iteration 64  ] residual:       1.31 | iteration runtime:      0.664 ms, (    0.0479 s total)\n",
      "[Iteration 65  ] residual:       1.18 | iteration runtime:      0.650 ms, (    0.0485 s total)\n",
      "[Iteration 66  ] residual:       1.06 | iteration runtime:      0.924 ms, (    0.0494 s total)\n",
      "[Iteration 67  ] residual:      0.955 | iteration runtime:      0.556 ms, (      0.05 s total)\n",
      "[Iteration 68  ] residual:       0.86 | iteration runtime:      0.577 ms, (    0.0506 s total)\n",
      "[Iteration 69  ] residual:      0.774 | iteration runtime:      0.462 ms, (     0.051 s total)\n",
      "[Iteration 70  ] residual:      0.696 | iteration runtime:      0.466 ms, (    0.0515 s total)\n",
      "[Iteration 71  ] residual:      0.627 | iteration runtime:      0.427 ms, (    0.0519 s total)\n",
      "[Iteration 72  ] residual:      0.564 | iteration runtime:      0.418 ms, (    0.0523 s total)\n",
      "[Iteration 73  ] residual:      0.508 | iteration runtime:      0.428 ms, (    0.0528 s total)\n",
      "[Iteration 74  ] residual:      0.457 | iteration runtime:      0.416 ms, (    0.0532 s total)\n",
      "[Iteration 75  ] residual:      0.411 | iteration runtime:      0.468 ms, (    0.0537 s total)\n",
      "[Iteration 76  ] residual:       0.37 | iteration runtime:      0.432 ms, (    0.0541 s total)\n",
      "[Iteration 77  ] residual:      0.333 | iteration runtime:      0.440 ms, (    0.0545 s total)\n",
      "[Iteration 78  ] residual:        0.3 | iteration runtime:      0.428 ms, (     0.055 s total)\n",
      "[Iteration 79  ] residual:       0.27 | iteration runtime:      0.415 ms, (    0.0554 s total)\n",
      "[Iteration 80  ] residual:      0.243 | iteration runtime:      0.572 ms, (    0.0559 s total)\n",
      "[Iteration 81  ] residual:      0.218 | iteration runtime:      0.436 ms, (    0.0564 s total)\n",
      "[Iteration 82  ] residual:      0.197 | iteration runtime:      0.538 ms, (    0.0569 s total)\n",
      "[Iteration 83  ] residual:      0.177 | iteration runtime:      0.570 ms, (    0.0575 s total)\n",
      "[Iteration 84  ] residual:      0.159 | iteration runtime:      0.565 ms, (    0.0581 s total)\n",
      "[Iteration 85  ] residual:      0.143 | iteration runtime:      0.557 ms, (    0.0586 s total)\n",
      "[Iteration 86  ] residual:      0.129 | iteration runtime:      0.553 ms, (    0.0592 s total)\n",
      "[Iteration 87  ] residual:      0.116 | iteration runtime:      0.608 ms, (    0.0598 s total)\n",
      "[Iteration 88  ] residual:      0.104 | iteration runtime:      0.630 ms, (    0.0604 s total)\n",
      "[Iteration 89  ] residual:      0.094 | iteration runtime:      0.653 ms, (    0.0611 s total)\n"
     ]
    },
    {
     "name": "stdout",
     "output_type": "stream",
     "text": [
      "[Iteration 90  ] residual:     0.0846 | iteration runtime:      0.658 ms, (    0.0617 s total)\n",
      "[Iteration 91  ] residual:     0.0762 | iteration runtime:      0.860 ms, (    0.0626 s total)\n",
      "[Iteration 92  ] residual:     0.0686 | iteration runtime:      0.826 ms, (    0.0634 s total)\n",
      "[Iteration 93  ] residual:     0.0617 | iteration runtime:      0.718 ms, (    0.0641 s total)\n",
      "[Iteration 94  ] residual:     0.0555 | iteration runtime:      1.026 ms, (    0.0651 s total)\n",
      "[Iteration 95  ] residual:       0.05 | iteration runtime:      1.111 ms, (    0.0663 s total)\n",
      "[Iteration 96  ] residual:      0.045 | iteration runtime:      1.219 ms, (    0.0675 s total)\n",
      "[Iteration 97  ] residual:     0.0405 | iteration runtime:      5.539 ms, (     0.073 s total)\n",
      "[Iteration 98  ] residual:     0.0364 | iteration runtime:      0.468 ms, (    0.0735 s total)\n",
      "[Iteration 99  ] residual:     0.0328 | iteration runtime:      0.466 ms, (    0.0739 s total)\n",
      "[Iteration 100 ] residual:     0.0295 | iteration runtime:      0.752 ms, (    0.0747 s total)\n",
      "[Iteration 101 ] residual:     0.0266 | iteration runtime:      0.736 ms, (    0.0754 s total)\n",
      "[Iteration 102 ] residual:     0.0239 | iteration runtime:      0.473 ms, (    0.0759 s total)\n",
      "[Iteration 103 ] residual:     0.0215 | iteration runtime:      0.736 ms, (    0.0766 s total)\n",
      "[Iteration 104 ] residual:     0.0194 | iteration runtime:      0.732 ms, (    0.0774 s total)\n",
      "[Iteration 105 ] residual:     0.0174 | iteration runtime:      0.446 ms, (    0.0778 s total)\n",
      "[Iteration 106 ] residual:     0.0157 | iteration runtime:      0.800 ms, (    0.0786 s total)\n",
      "[Iteration 107 ] residual:     0.0141 | iteration runtime:      0.790 ms, (    0.0794 s total)\n",
      "[Iteration 108 ] residual:     0.0127 | iteration runtime:      0.494 ms, (    0.0799 s total)\n",
      "[Iteration 109 ] residual:     0.0114 | iteration runtime:      0.486 ms, (    0.0804 s total)\n",
      "[Iteration 110 ] residual:     0.0103 | iteration runtime:      0.430 ms, (    0.0808 s total)\n",
      "[Iteration 111 ] residual:    0.00926 | iteration runtime:      0.525 ms, (    0.0813 s total)\n",
      "[Iteration 112 ] residual:    0.00834 | iteration runtime:      0.846 ms, (    0.0822 s total)\n",
      "[Iteration 113 ] residual:     0.0075 | iteration runtime:      0.825 ms, (     0.083 s total)\n",
      "[Iteration 114 ] residual:    0.00675 | iteration runtime:      0.501 ms, (    0.0835 s total)\n",
      "[Iteration 115 ] residual:    0.00608 | iteration runtime:      0.556 ms, (    0.0841 s total)\n",
      "[Iteration 116 ] residual:    0.00547 | iteration runtime:      0.452 ms, (    0.0845 s total)\n",
      "[Iteration 117 ] residual:    0.00492 | iteration runtime:      0.501 ms, (     0.085 s total)\n",
      "[Iteration 118 ] residual:    0.00443 | iteration runtime:      0.845 ms, (    0.0859 s total)\n",
      "[Iteration 119 ] residual:    0.00399 | iteration runtime:      0.447 ms, (    0.0863 s total)\n",
      "[Iteration 120 ] residual:    0.00359 | iteration runtime:      0.428 ms, (    0.0867 s total)\n",
      "[Iteration 121 ] residual:    0.00323 | iteration runtime:      0.428 ms, (    0.0872 s total)\n",
      "[Iteration 122 ] residual:    0.00291 | iteration runtime:      0.425 ms, (    0.0876 s total)\n",
      "[Iteration 123 ] residual:    0.00262 | iteration runtime:      0.425 ms, (     0.088 s total)\n",
      "[Iteration 124 ] residual:    0.00235 | iteration runtime:      0.426 ms, (    0.0885 s total)\n",
      "[Iteration 125 ] residual:    0.00212 | iteration runtime:      0.420 ms, (    0.0889 s total)\n",
      "[Iteration 126 ] residual:    0.00191 | iteration runtime:      0.528 ms, (    0.0894 s total)\n",
      "[Iteration 127 ] residual:    0.00172 | iteration runtime:      0.426 ms, (    0.0898 s total)\n",
      "[Iteration 128 ] residual:    0.00154 | iteration runtime:      0.417 ms, (    0.0902 s total)\n",
      "[Iteration 129 ] residual:    0.00139 | iteration runtime:      0.469 ms, (    0.0907 s total)\n",
      "[Iteration 130 ] residual:    0.00125 | iteration runtime:      1.701 ms, (    0.0924 s total)\n",
      "[Iteration 131 ] residual:    0.00113 | iteration runtime:      0.851 ms, (    0.0933 s total)\n",
      "[Iteration 132 ] residual:    0.00101 | iteration runtime:      0.764 ms, (     0.094 s total)\n",
      "[Iteration 133 ] residual:   0.000912 | iteration runtime:      0.562 ms, (    0.0946 s total)\n"
     ]
    },
    {
     "data": {
      "text/plain": [
       "DiscreteValueIteration.ValueIterationPolicy([513.103 543.471 488.124 488.124; 487.041 468.174 503.743 452.368; … ; 0.0 0.0 0.0 0.0; 0.0 0.0 0.0 0.0], [543.471, 503.743, 491.062, 575.397, 586.094, 703.613, 708.35, 873.358, 589.864, 672.451  …  0.0, 0.0, 0.0, 0.0, 0.0, 0.0, 0.0, 0.0, 0.0, 0.0], [2, 3, 2, 3, 2, 3, 3, 4, 3, 3  …  1, 1, 1, 1, 1, 1, 1, 1, 1, 1], Symbol[:n1, :n2, :n3, :n4], true, roadnet(0.6, 0.9, [-1.0, -1.0, -1.0, -1.0, -1.0, -1.0, -1.0, -1.0, -1.0, -1.0, -1.0, -1.0, 1000.0], roadnetState[roadnetState(1, false), roadnetState(2, false), roadnetState(3, false), roadnetState(4, false), roadnetState(5, false), roadnetState(6, false), roadnetState(7, false), roadnetState(8, false), roadnetState(9, false), roadnetState(10, false), roadnetState(11, false), roadnetState(12, false), roadnetState(13, true)], {13, 19} undirected Int64 metagraph with Float64 weights defined by :weight (default weight 1.0)))"
      ]
     },
     "execution_count": 4,
     "metadata": {},
     "output_type": "execute_result"
    }
   ],
   "source": [
    "using DiscreteValueIteration\n",
    "\n",
    "solver = ValueIterationSolver(max_iterations=1000, belres=1e-3)\n",
    "policy = ValueIterationPolicy(mdp)\n",
    "\n",
    "solve(solver, mdp, policy, verbose=true)"
   ]
  },
  {
   "cell_type": "code",
   "execution_count": 6,
   "metadata": {},
   "outputs": [
    {
     "data": {
      "text/plain": [
       ":n2"
      ]
     },
     "metadata": {},
     "output_type": "display_data"
    },
    {
     "data": {
      "text/plain": [
       ":n3"
      ]
     },
     "metadata": {},
     "output_type": "display_data"
    },
    {
     "data": {
      "text/plain": [
       ":n2"
      ]
     },
     "metadata": {},
     "output_type": "display_data"
    },
    {
     "data": {
      "text/plain": [
       ":n3"
      ]
     },
     "metadata": {},
     "output_type": "display_data"
    },
    {
     "data": {
      "text/plain": [
       ":n2"
      ]
     },
     "metadata": {},
     "output_type": "display_data"
    },
    {
     "data": {
      "text/plain": [
       ":n3"
      ]
     },
     "metadata": {},
     "output_type": "display_data"
    },
    {
     "data": {
      "text/plain": [
       ":n3"
      ]
     },
     "metadata": {},
     "output_type": "display_data"
    },
    {
     "data": {
      "text/plain": [
       ":n4"
      ]
     },
     "metadata": {},
     "output_type": "display_data"
    },
    {
     "data": {
      "text/plain": [
       ":n3"
      ]
     },
     "metadata": {},
     "output_type": "display_data"
    },
    {
     "data": {
      "text/plain": [
       ":n3"
      ]
     },
     "metadata": {},
     "output_type": "display_data"
    },
    {
     "data": {
      "text/plain": [
       ":n3"
      ]
     },
     "metadata": {},
     "output_type": "display_data"
    },
    {
     "data": {
      "text/plain": [
       ":n4"
      ]
     },
     "metadata": {},
     "output_type": "display_data"
    },
    {
     "data": {
      "text/plain": [
       ":n3"
      ]
     },
     "metadata": {},
     "output_type": "display_data"
    }
   ],
   "source": [
    "for x in vertices(mdp.road_net)\n",
    "    s = roadnetState(x)\n",
    "    #display(\"node $x\")\n",
    "    #display(neighbors(mdp.road_net,s.node)')\n",
    "    a = action(policy,s)\n",
    "    display(a)\n",
    "end"
   ]
  },
  {
   "cell_type": "code",
   "execution_count": 7,
   "metadata": {},
   "outputs": [
    {
     "name": "stdout",
     "output_type": "stream",
     "text": [
      "Total discounted reward: 526.7554100000001\n"
     ]
    }
   ],
   "source": [
    "s = roadnetState(4)\n",
    "hist = HistoryRecorder(max_steps=1000)\n",
    "\n",
    "hist = simulate(hist,mdp,policy,s)\n",
    "\n",
    "println(\"Total discounted reward: $(discounted_reward(hist))\")"
   ]
  },
  {
   "cell_type": "code",
   "execution_count": 8,
   "metadata": {
    "scrolled": true
   },
   "outputs": [
    {
     "name": "stdout",
     "output_type": "stream",
     "text": [
      "s: roadnetState(4, false)      a: n3      s': roadnetState(5, false)    \n",
      "s: roadnetState(5, false)      a: n2      s': roadnetState(4, false)    \n",
      "s: roadnetState(4, false)      a: n3      s': roadnetState(7, false)    \n",
      "s: roadnetState(7, false)      a: n3      s': roadnetState(8, false)    \n",
      "s: roadnetState(8, false)      a: n4      s': roadnetState(6, false)    \n",
      "s: roadnetState(6, false)      a: n3      s': roadnetState(8, false)    \n",
      "s: roadnetState(8, false)      a: n4      s': roadnetState(13, true)    \n"
     ]
    }
   ],
   "source": [
    "for (s, a, sp) in eachstep(hist, \"s,a,sp\")\n",
    "    @printf(\"s: %-26s  a: %-6s  s': %-26s\\n\", s, a, sp)\n",
    "end"
   ]
  },
  {
   "cell_type": "code",
   "execution_count": null,
   "metadata": {},
   "outputs": [],
   "source": []
  }
 ],
 "metadata": {
  "kernelspec": {
   "display_name": "Julia 0.6.0",
   "language": "julia",
   "name": "julia-0.6"
  },
  "language_info": {
   "file_extension": ".jl",
   "mimetype": "application/julia",
   "name": "julia",
   "version": "0.6.0"
  }
 },
 "nbformat": 4,
 "nbformat_minor": 2
}
